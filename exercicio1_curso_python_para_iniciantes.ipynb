{
 "cells": [
  {
   "cell_type": "code",
   "execution_count": 1,
   "id": "29ef31b3",
   "metadata": {},
   "outputs": [
    {
     "name": "stdout",
     "output_type": "stream",
     "text": [
      "Olá mundo!\n",
      "Didática tech\n",
      "oi tudo bem?\n"
     ]
    }
   ],
   "source": [
    "# Exercício 1 - Python para iniciantes\n",
    "\n",
    "### Textos (precisam estar dentro das aspas)\n",
    "\n",
    "print(\"Olá mundo!\")\n",
    "print(\"Didática tech\")\n",
    "print(\"oi\", \"tudo bem?\")"
   ]
  },
  {
   "cell_type": "code",
   "execution_count": 2,
   "id": "99fba272",
   "metadata": {},
   "outputs": [
    {
     "name": "stdout",
     "output_type": "stream",
     "text": [
      "11\n",
      "2\n",
      "81\n",
      "21\n",
      "1.8\n",
      "3\n",
      "5.666666666666667\n",
      "1\n"
     ]
    }
   ],
   "source": [
    "### Operações matemáticas\n",
    "\n",
    "print(5 + 6)\n",
    "print(4 - 2)\n",
    "print(3 ** 4)\n",
    "print(3 * 7)\n",
    "print(9 / 5)\n",
    "print(6 - 3)\n",
    "print(17 / 3)\n",
    "print(5 % 2) # Resto da divisão"
   ]
  },
  {
   "cell_type": "code",
   "execution_count": 4,
   "id": "e7aca59a",
   "metadata": {},
   "outputs": [
    {
     "name": "stdout",
     "output_type": "stream",
     "text": [
      "5\n"
     ]
    },
    {
     "data": {
      "text/plain": [
       "True"
      ]
     },
     "execution_count": 4,
     "metadata": {},
     "output_type": "execute_result"
    }
   ],
   "source": [
    "### Criando variáveis\n",
    "\n",
    "a = 5\n",
    "print(a)\n",
    "a == 3 # Pergunta se a é igual a 5, a resposta é \"true\" ou \"false\"\n",
    "a == 5"
   ]
  },
  {
   "cell_type": "code",
   "execution_count": 7,
   "id": "baee1b20",
   "metadata": {},
   "outputs": [
    {
     "name": "stdout",
     "output_type": "stream",
     "text": [
      "7\n",
      "12\n"
     ]
    }
   ],
   "source": [
    "a = 5\n",
    "b = 7\n",
    "print(b)\n",
    "c = a + b\n",
    "print(c)"
   ]
  },
  {
   "cell_type": "code",
   "execution_count": null,
   "id": "2a1c023a",
   "metadata": {},
   "outputs": [],
   "source": []
  }
 ],
 "metadata": {
  "kernelspec": {
   "display_name": "Python 3 (ipykernel)",
   "language": "python",
   "name": "python3"
  },
  "language_info": {
   "codemirror_mode": {
    "name": "ipython",
    "version": 3
   },
   "file_extension": ".py",
   "mimetype": "text/x-python",
   "name": "python",
   "nbconvert_exporter": "python",
   "pygments_lexer": "ipython3",
   "version": "3.10.9"
  }
 },
 "nbformat": 4,
 "nbformat_minor": 5
}
