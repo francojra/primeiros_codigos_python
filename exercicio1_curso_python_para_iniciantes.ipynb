{
 "cells": [
  {
   "cell_type": "code",
   "execution_count": 1,
   "id": "29ef31b3",
   "metadata": {},
   "outputs": [
    {
     "name": "stdout",
     "output_type": "stream",
     "text": [
      "Olá mundo!\n",
      "Didática tech\n",
      "oi tudo bem?\n"
     ]
    }
   ],
   "source": [
    "# Exercício 1 - Python para iniciantes\n",
    "\n",
    "### Textos (precisam estar dentro das aspas)\n",
    "\n",
    "print(\"Olá mundo!\")\n",
    "print(\"Didática tech\")\n",
    "print(\"oi\", \"tudo bem?\")"
   ]
  },
  {
   "cell_type": "code",
   "execution_count": 2,
   "id": "99fba272",
   "metadata": {},
   "outputs": [
    {
     "name": "stdout",
     "output_type": "stream",
     "text": [
      "11\n",
      "2\n",
      "81\n",
      "21\n",
      "1.8\n",
      "3\n",
      "5.666666666666667\n",
      "1\n"
     ]
    }
   ],
   "source": [
    "### Operações matemáticas\n",
    "\n",
    "print(5 + 6)\n",
    "print(4 - 2)\n",
    "print(3 ** 4)\n",
    "print(3 * 7)\n",
    "print(9 / 5)\n",
    "print(6 - 3)\n",
    "print(17 / 3)\n",
    "print(5 % 2) # Resto da divisão"
   ]
  },
  {
   "cell_type": "code",
   "execution_count": 4,
   "id": "e7aca59a",
   "metadata": {},
   "outputs": [
    {
     "name": "stdout",
     "output_type": "stream",
     "text": [
      "5\n"
     ]
    },
    {
     "data": {
      "text/plain": [
       "True"
      ]
     },
     "execution_count": 4,
     "metadata": {},
     "output_type": "execute_result"
    }
   ],
   "source": [
    "### Criando variáveis\n",
    "\n",
    "a = 5\n",
    "print(a)\n",
    "a == 3 # Pergunta se a é igual a 5, a resposta é \"true\" ou \"false\"\n",
    "a == 5"
   ]
  },
  {
   "cell_type": "code",
   "execution_count": 7,
   "id": "baee1b20",
   "metadata": {},
   "outputs": [
    {
     "name": "stdout",
     "output_type": "stream",
     "text": [
      "7\n",
      "12\n"
     ]
    }
   ],
   "source": [
    "a = 5\n",
    "b = 7\n",
    "print(b)\n",
    "c = a + b\n",
    "print(c)"
   ]
  },
  {
   "cell_type": "code",
   "execution_count": 1,
   "id": "2a1c023a",
   "metadata": {},
   "outputs": [
    {
     "name": "stdout",
     "output_type": "stream",
     "text": [
      "6\n"
     ]
    }
   ],
   "source": [
    "variavel1 = 3\n",
    "variavel2 = 4\n",
    "variavel1 = 6 # Variável com nome repetido camufla o primeiro código\n",
    "print(variavel1)"
   ]
  },
  {
   "cell_type": "code",
   "execution_count": 4,
   "id": "b58e4bde",
   "metadata": {},
   "outputs": [],
   "source": [
    "var1 = 4\n",
    "var2 = 3.5"
   ]
  },
  {
   "cell_type": "code",
   "execution_count": 5,
   "id": "734cb27c",
   "metadata": {},
   "outputs": [
    {
     "data": {
      "text/plain": [
       "int"
      ]
     },
     "execution_count": 5,
     "metadata": {},
     "output_type": "execute_result"
    }
   ],
   "source": [
    "type(var1)"
   ]
  },
  {
   "cell_type": "code",
   "execution_count": 6,
   "id": "0cc1c83c",
   "metadata": {},
   "outputs": [
    {
     "data": {
      "text/plain": [
       "float"
      ]
     },
     "execution_count": 6,
     "metadata": {},
     "output_type": "execute_result"
    }
   ],
   "source": [
    "type(var2) # Float é um número preciso, um tipo diferente de inteiro"
   ]
  },
  {
   "cell_type": "code",
   "execution_count": null,
   "id": "5794b5fb",
   "metadata": {},
   "outputs": [],
   "source": [
    "print(var1 + var2)"
   ]
  },
  {
   "cell_type": "code",
   "execution_count": 7,
   "id": "f0af134e",
   "metadata": {},
   "outputs": [],
   "source": [
    "palavra = \"Frase 1\""
   ]
  },
  {
   "cell_type": "code",
   "execution_count": 8,
   "id": "f2b21bfa",
   "metadata": {},
   "outputs": [
    {
     "data": {
      "text/plain": [
       "str"
      ]
     },
     "execution_count": 8,
     "metadata": {},
     "output_type": "execute_result"
    }
   ],
   "source": [
    "type(palavra)"
   ]
  },
  {
   "cell_type": "code",
   "execution_count": 10,
   "id": "6ed7f798",
   "metadata": {},
   "outputs": [
    {
     "ename": "TypeError",
     "evalue": "unsupported operand type(s) for +: 'float' and 'str'",
     "output_type": "error",
     "traceback": [
      "\u001b[1;31m---------------------------------------------------------------------------\u001b[0m",
      "\u001b[1;31mTypeError\u001b[0m                                 Traceback (most recent call last)",
      "Cell \u001b[1;32mIn[10], line 1\u001b[0m\n\u001b[1;32m----> 1\u001b[0m \u001b[38;5;28mprint\u001b[39m(\u001b[43mvar2\u001b[49m\u001b[43m \u001b[49m\u001b[38;5;241;43m+\u001b[39;49m\u001b[43m \u001b[49m\u001b[43mpalavra\u001b[49m)\n",
      "\u001b[1;31mTypeError\u001b[0m: unsupported operand type(s) for +: 'float' and 'str'"
     ]
    }
   ],
   "source": [
    "print(var2 + palavra) # Retorna uma mensagem de erro"
   ]
  },
  {
   "cell_type": "code",
   "execution_count": 2,
   "id": "24243ca3",
   "metadata": {},
   "outputs": [
    {
     "name": "stdout",
     "output_type": "stream",
     "text": [
      "Qual o seu nome?Jeanne\n",
      "Jeanne\n"
     ]
    }
   ],
   "source": [
    "# Função input()\n",
    "\n",
    "nome = input(\"Qual o seu nome?\") # Precisa de um \"enter\" após colocar o nome"
   ]
  },
  {
   "cell_type": "code",
   "execution_count": null,
   "id": "7fda60a8",
   "metadata": {},
   "outputs": [],
   "source": [
    "print(nome)"
   ]
  },
  {
   "cell_type": "code",
   "execution_count": 1,
   "id": "2e8f6054",
   "metadata": {},
   "outputs": [
    {
     "name": "stdout",
     "output_type": "stream",
     "text": [
      "Qual a sua idade?33\n"
     ]
    }
   ],
   "source": [
    "idade = input(\"Qual a sua idade?\")"
   ]
  },
  {
   "cell_type": "code",
   "execution_count": 3,
   "id": "db711151",
   "metadata": {},
   "outputs": [
    {
     "name": "stdout",
     "output_type": "stream",
     "text": [
      "33\n"
     ]
    }
   ],
   "source": [
    "print(idade)"
   ]
  },
  {
   "cell_type": "code",
   "execution_count": 4,
   "id": "5fd8ac07",
   "metadata": {},
   "outputs": [
    {
     "name": "stdout",
     "output_type": "stream",
     "text": [
      "3333\n"
     ]
    }
   ],
   "source": [
    "print(idade * 2) # Não gera uma multiplicação porque o \"33\" está como string"
   ]
  },
  {
   "cell_type": "code",
   "execution_count": 5,
   "id": "9d7cb23d",
   "metadata": {},
   "outputs": [
    {
     "name": "stdout",
     "output_type": "stream",
     "text": [
      "OiOiOiOiOiOiOiOiOiOiOiOiOiOiOiOiOiOiOiOiOiOiOiOiOiOiOiOiOiOiOiOiOiOiOiOiOiOiOiOiOiOiOiOiOiOiOiOiOiOi\n"
     ]
    }
   ],
   "source": [
    "a = \"Oi\"\n",
    "print(a*50)"
   ]
  },
  {
   "cell_type": "code",
   "execution_count": 6,
   "id": "365895ef",
   "metadata": {},
   "outputs": [
    {
     "name": "stdout",
     "output_type": "stream",
     "text": [
      "Qual sua idade?33\n"
     ]
    }
   ],
   "source": [
    "idade = input(\"Qual sua idade?\")"
   ]
  },
  {
   "cell_type": "code",
   "execution_count": 7,
   "id": "c73fd89f",
   "metadata": {},
   "outputs": [
    {
     "data": {
      "text/plain": [
       "str"
      ]
     },
     "execution_count": 7,
     "metadata": {},
     "output_type": "execute_result"
    }
   ],
   "source": [
    "type(idade)"
   ]
  },
  {
   "cell_type": "code",
   "execution_count": 8,
   "id": "9207b089",
   "metadata": {},
   "outputs": [
    {
     "name": "stdout",
     "output_type": "stream",
     "text": [
      "Qual sua idade?33\n"
     ]
    }
   ],
   "source": [
    "# Para atribuir um outro tipo de variável\n",
    "\n",
    "idade = int(input(\"Qual sua idade?\"))"
   ]
  },
  {
   "cell_type": "code",
   "execution_count": 9,
   "id": "3b0f40fe",
   "metadata": {},
   "outputs": [
    {
     "data": {
      "text/plain": [
       "int"
      ]
     },
     "execution_count": 9,
     "metadata": {},
     "output_type": "execute_result"
    }
   ],
   "source": [
    "type(idade)"
   ]
  },
  {
   "cell_type": "code",
   "execution_count": 10,
   "id": "c028d4d9",
   "metadata": {},
   "outputs": [
    {
     "name": "stdout",
     "output_type": "stream",
     "text": [
      "66\n"
     ]
    }
   ],
   "source": [
    "print(idade*2)"
   ]
  },
  {
   "cell_type": "code",
   "execution_count": 12,
   "id": "8a4e7686",
   "metadata": {},
   "outputs": [
    {
     "name": "stdout",
     "output_type": "stream",
     "text": [
      "Digite: 30\n"
     ]
    }
   ],
   "source": [
    "idade = float(input(\"Digite: \"))"
   ]
  },
  {
   "cell_type": "code",
   "execution_count": 13,
   "id": "864ab583",
   "metadata": {},
   "outputs": [
    {
     "data": {
      "text/plain": [
       "float"
      ]
     },
     "execution_count": 13,
     "metadata": {},
     "output_type": "execute_result"
    }
   ],
   "source": [
    "type(idade)"
   ]
  },
  {
   "cell_type": "code",
   "execution_count": 5,
   "id": "320484f8",
   "metadata": {},
   "outputs": [],
   "source": [
    "fruta = 'laranja'"
   ]
  },
  {
   "cell_type": "code",
   "execution_count": 6,
   "id": "c866ac79",
   "metadata": {},
   "outputs": [
    {
     "name": "stdout",
     "output_type": "stream",
     "text": [
      "Suco de laranja é o meu favorito.\n"
     ]
    }
   ],
   "source": [
    "print(\"Suco de laranja é o meu favorito.\")"
   ]
  },
  {
   "cell_type": "code",
   "execution_count": 7,
   "id": "e6d976ea",
   "metadata": {},
   "outputs": [
    {
     "name": "stdout",
     "output_type": "stream",
     "text": [
      "Suco de laranja é o meu favorito.\n"
     ]
    }
   ],
   "source": [
    "print(\"Suco de %s é o meu favorito.\" %fruta) # A %s indica que virá no texto uma variável do tipo string, \n",
    "# depois informa qual a variável do tipo string"
   ]
  },
  {
   "cell_type": "code",
   "execution_count": 8,
   "id": "6092cb58",
   "metadata": {},
   "outputs": [
    {
     "name": "stdout",
     "output_type": "stream",
     "text": [
      "Suco de laranja é o meu favorito.\n"
     ]
    }
   ],
   "source": [
    "print(\"Suco de {} é o meu favorito.\" .format(fruta))"
   ]
  },
  {
   "cell_type": "code",
   "execution_count": 9,
   "id": "93d0777c",
   "metadata": {},
   "outputs": [],
   "source": [
    "cor1 = 'azul'\n",
    "cor2 = 'rosa'"
   ]
  },
  {
   "cell_type": "code",
   "execution_count": 11,
   "id": "ff9dd65b",
   "metadata": {},
   "outputs": [
    {
     "name": "stdout",
     "output_type": "stream",
     "text": [
      "O céu é azul, a flor é rosa e meu carro é azul.\n"
     ]
    }
   ],
   "source": [
    "print(\"O céu é {0}, a flor é {1} e meu carro é {0}.\" .format(cor1, cor2))"
   ]
  },
  {
   "cell_type": "code",
   "execution_count": 13,
   "id": "0ce6d665",
   "metadata": {},
   "outputs": [
    {
     "name": "stdout",
     "output_type": "stream",
     "text": [
      "5.666666666666667\n"
     ]
    }
   ],
   "source": [
    "conta = 17/3\n",
    "print(conta)"
   ]
  },
  {
   "cell_type": "code",
   "execution_count": 15,
   "id": "2e788a28",
   "metadata": {},
   "outputs": [
    {
     "name": "stdout",
     "output_type": "stream",
     "text": [
      "O resultado da conta é 5.666666666666667\n"
     ]
    }
   ],
   "source": [
    "print(\"O resultado da conta é {}\" .format(conta))"
   ]
  },
  {
   "cell_type": "code",
   "execution_count": 18,
   "id": "dc5835d0",
   "metadata": {},
   "outputs": [
    {
     "name": "stdout",
     "output_type": "stream",
     "text": [
      "O resultado da conta é 5.67.\n"
     ]
    }
   ],
   "source": [
    "print(\"O resultado da conta é {:.2f}.\" .format(conta)) # Formata o valor para duas casas decimais."
   ]
  },
  {
   "cell_type": "code",
   "execution_count": 4,
   "id": "aa87e1d4",
   "metadata": {},
   "outputs": [
    {
     "name": "stdout",
     "output_type": "stream",
     "text": [
      "Possui muitas calorias.\n"
     ]
    }
   ],
   "source": [
    "# Condicionais\n",
    "\n",
    "## Se isso é verdade, então faça isso. Se não, faça aquilo.\n",
    "\n",
    "comida = \"pizza\"\n",
    "if comida == \"pizza\":\n",
    "   print(\"Possui muitas calorias.\")\n",
    "else:\n",
    "   print(\"Desconheço as calorias.\")"
   ]
  },
  {
   "cell_type": "code",
   "execution_count": 5,
   "id": "5e7d4711",
   "metadata": {},
   "outputs": [
    {
     "name": "stdout",
     "output_type": "stream",
     "text": [
      "Desconheço as calorias.\n"
     ]
    }
   ],
   "source": [
    "comida = \"macarrão\"\n",
    "if comida == \"pizza\":\n",
    "   print(\"Possui muitas calorias.\")\n",
    "else:\n",
    "   print(\"Desconheço as calorias.\")"
   ]
  },
  {
   "cell_type": "code",
   "execution_count": 6,
   "id": "eaec319f",
   "metadata": {},
   "outputs": [
    {
     "name": "stdout",
     "output_type": "stream",
     "text": [
      "Tem bastante proteínas\n"
     ]
    }
   ],
   "source": [
    "comida = \"carne\"\n",
    "if comida == \"pizza\":\n",
    "   print(\"Possui muitas calorias.\")\n",
    "elif comida == \"abóbora\":\n",
    "   print(\"Possui poucas calorias.\")\n",
    "elif comida == \"carne\":\n",
    "   print(\"Tem bastante proteínas.\")\n",
    "else:\n",
    "   print(\"Desconheço as calorias.\")"
   ]
  },
  {
   "cell_type": "code",
   "execution_count": 7,
   "id": "aa90cde5",
   "metadata": {},
   "outputs": [
    {
     "name": "stdout",
     "output_type": "stream",
     "text": [
      "Possui poucas calorias.\n"
     ]
    }
   ],
   "source": [
    "comida = \"abóbora\"\n",
    "if comida == \"pizza\":\n",
    "   print(\"Possui muitas calorias.\")\n",
    "elif comida == \"abóbora\":\n",
    "   print(\"Possui poucas calorias.\")\n",
    "elif comida == \"carne\":\n",
    "   print(\"Tem bastante proteínas.\")\n",
    "else:\n",
    "   print(\"Desconheço as calorias.\")"
   ]
  },
  {
   "cell_type": "code",
   "execution_count": 8,
   "id": "98d7d890",
   "metadata": {},
   "outputs": [
    {
     "name": "stdout",
     "output_type": "stream",
     "text": [
      "Desconheço as calorias.\n"
     ]
    }
   ],
   "source": [
    "comida = \"azeite\"\n",
    "if comida == \"pizza\":\n",
    "   print(\"Possui muitas calorias.\")\n",
    "elif comida == \"abóbora\":\n",
    "   print(\"Possui poucas calorias.\")\n",
    "elif comida == \"carne\":\n",
    "   print(\"Tem bastante proteínas.\")\n",
    "else:\n",
    "   print(\"Desconheço as calorias.\")"
   ]
  },
  {
   "cell_type": "code",
   "execution_count": 11,
   "id": "c7e12936",
   "metadata": {},
   "outputs": [
    {
     "name": "stdout",
     "output_type": "stream",
     "text": [
      "É pizza.\n"
     ]
    }
   ],
   "source": [
    "comida = 'pizza'\n",
    "if comida != 'pizza':\n",
    "   print(\"Não é pizza.\")\n",
    "else:\n",
    "   print(\"É pizza.\")"
   ]
  },
  {
   "cell_type": "code",
   "execution_count": 12,
   "id": "95917877",
   "metadata": {},
   "outputs": [
    {
     "name": "stdout",
     "output_type": "stream",
     "text": [
      "Não é pizza.\n"
     ]
    }
   ],
   "source": [
    "comida = 'beterraba'\n",
    "if comida != 'pizza':\n",
    "   print(\"Não é pizza.\")\n",
    "else:\n",
    "   print(\"É pizza.\")"
   ]
  },
  {
   "cell_type": "code",
   "execution_count": 13,
   "id": "b490d778",
   "metadata": {},
   "outputs": [
    {
     "name": "stdout",
     "output_type": "stream",
     "text": [
      "O valor é 22.\n"
     ]
    }
   ],
   "source": [
    "valor = 22\n",
    "if valor <= 8:\n",
    "   print(\"O valor não é 22.\")\n",
    "else:\n",
    "   print(\"O valor é 22.\")"
   ]
  },
  {
   "cell_type": "code",
   "execution_count": 14,
   "id": "42786122",
   "metadata": {},
   "outputs": [
    {
     "name": "stdout",
     "output_type": "stream",
     "text": [
      "O valor não é 22.\n"
     ]
    }
   ],
   "source": [
    "valor = 3\n",
    "if valor <= 8:\n",
    "   print(\"O valor não é 22.\")\n",
    "else:\n",
    "   print(\"O valor é 22.\")"
   ]
  },
  {
   "cell_type": "code",
   "execution_count": 4,
   "id": "1c82cea8",
   "metadata": {},
   "outputs": [
    {
     "name": "stdout",
     "output_type": "stream",
     "text": [
      "Que ano você nasceu?2019\n"
     ]
    }
   ],
   "source": [
    "ano_nascimento = input(\"Que ano você nasceu?\")"
   ]
  },
  {
   "cell_type": "code",
   "execution_count": 8,
   "id": "5c6cb23a",
   "metadata": {},
   "outputs": [
    {
     "name": "stdout",
     "output_type": "stream",
     "text": [
      "A pessoa é criança.\n"
     ]
    }
   ],
   "source": [
    "ano_nascimento = 2019\n",
    "if ano_nascimento >= 2010:\n",
    "   print(\"A pessoa é criança.\")\n",
    "else:\n",
    "   print(\"A pessoa é adolescente ou adulta.\")"
   ]
  },
  {
   "cell_type": "code",
   "execution_count": 9,
   "id": "4f5153e8",
   "metadata": {},
   "outputs": [
    {
     "name": "stdout",
     "output_type": "stream",
     "text": [
      "A pessoa é adolescente ou adulta.\n"
     ]
    }
   ],
   "source": [
    "ano_nascimento = 2008\n",
    "if ano_nascimento >= 2010:\n",
    "   print(\"A pessoa é criança.\")\n",
    "else:\n",
    "   print(\"A pessoa é adolescente ou adulta.\")"
   ]
  },
  {
   "cell_type": "code",
   "execution_count": 12,
   "id": "afa4f187",
   "metadata": {},
   "outputs": [
    {
     "name": "stdout",
     "output_type": "stream",
     "text": [
      "Que ano você nasceu?2004\n",
      "Você é adulto.\n"
     ]
    }
   ],
   "source": [
    "ano = int(input(\"Que ano você nasceu?\"))\n",
    "idade = 2023 - ano\n",
    "if idade >= 18:\n",
    " print(\"Você é adulto.\")\n",
    "else:\n",
    " print(\"Você não é adulto\")"
   ]
  },
  {
   "cell_type": "code",
   "execution_count": 11,
   "id": "f08fa437",
   "metadata": {},
   "outputs": [
    {
     "name": "stdout",
     "output_type": "stream",
     "text": [
      "Que ano você nasceu?2018\n",
      "Você não é adulto\n"
     ]
    }
   ],
   "source": [
    "ano = int(input(\"Que ano você nasceu?\"))\n",
    "idade = 2023 - ano\n",
    "if idade >= 18:\n",
    " print(\"Você é adulto.\")\n",
    "else:\n",
    " print(\"Você não é adulto\")"
   ]
  },
  {
   "cell_type": "code",
   "execution_count": 14,
   "id": "e78fa761",
   "metadata": {},
   "outputs": [
    {
     "name": "stdout",
     "output_type": "stream",
     "text": [
      "Que ano você nasceu?1956\n",
      "Você é idoso.\n"
     ]
    }
   ],
   "source": [
    "ano = int(input(\"Que ano você nasceu?\"))\n",
    "idade = 2023 - ano\n",
    "if idade >= 60:\n",
    " print(\"Você é idoso.\")\n",
    "else:\n",
    " print(\"Você não é idoso\")"
   ]
  },
  {
   "cell_type": "code",
   "execution_count": 15,
   "id": "e1f09471",
   "metadata": {},
   "outputs": [
    {
     "name": "stdout",
     "output_type": "stream",
     "text": [
      "Que ano você nasceu?1990\n",
      "Você não é idoso\n"
     ]
    }
   ],
   "source": [
    "ano = int(input(\"Que ano você nasceu?\"))\n",
    "idade = 2023 - ano\n",
    "if idade >= 60:\n",
    " print(\"Você é idoso.\")\n",
    "else:\n",
    " print(\"Você não é idoso\")"
   ]
  },
  {
   "cell_type": "code",
   "execution_count": 19,
   "id": "92d7f1dd",
   "metadata": {},
   "outputs": [
    {
     "name": "stdout",
     "output_type": "stream",
     "text": [
      "Que ano você nasceu?2025\n",
      "Essa idade não é válida.\n"
     ]
    }
   ],
   "source": [
    "ano = int(input(\"Que ano você nasceu?\"))\n",
    "idade = 2023 - ano\n",
    "if idade >= 60:\n",
    " print(\"Você é idoso.\")\n",
    "elif idade < 0:\n",
    " print(\"Essa idade não é válida.\")\n",
    "else:\n",
    " print(\"Você não é idoso\")"
   ]
  },
  {
   "cell_type": "code",
   "execution_count": 21,
   "id": "07c230c8",
   "metadata": {},
   "outputs": [
    {
     "name": "stdout",
     "output_type": "stream",
     "text": [
      "0\n",
      "1\n",
      "2\n",
      "3\n",
      "4\n",
      "5\n",
      "6\n",
      "7\n"
     ]
    }
   ],
   "source": [
    "# Comandos for e range\n",
    "\n",
    "for i in range(8): # No Python os valores iniciam do zero.\n",
    " print(i)"
   ]
  },
  {
   "cell_type": "code",
   "execution_count": 24,
   "id": "ccf7acf2",
   "metadata": {},
   "outputs": [
    {
     "name": "stdout",
     "output_type": "stream",
     "text": [
      "Comando for e range.\n",
      "Comando for e range.\n",
      "Comando for e range.\n",
      "Comando for e range.\n",
      "Comando for e range.\n",
      "Comando for e range.\n",
      "Comando for e range.\n",
      "Comando for e range.\n"
     ]
    }
   ],
   "source": [
    "for i in range(8): # No Python os valores iniciam do zero.\n",
    " print(\"Comando for e range.\")"
   ]
  },
  {
   "cell_type": "code",
   "execution_count": 25,
   "id": "70765a8e",
   "metadata": {},
   "outputs": [
    {
     "name": "stdout",
     "output_type": "stream",
     "text": [
      "0\n",
      "2\n",
      "4\n",
      "6\n",
      "8\n",
      "10\n",
      "12\n",
      "14\n"
     ]
    }
   ],
   "source": [
    "for i in range(8): \n",
    " print(i*2) # Imprime cada valor multiplicado por 2."
   ]
  },
  {
   "cell_type": "code",
   "execution_count": 26,
   "id": "c0bb534a",
   "metadata": {},
   "outputs": [
    {
     "name": "stdout",
     "output_type": "stream",
     "text": [
      "0\n",
      "0\n",
      "0\n",
      "0\n",
      "0\n",
      "0\n",
      "0\n",
      "0\n"
     ]
    }
   ],
   "source": [
    "a = 0\n",
    "for i in range(8): \n",
    " print(i*a) "
   ]
  },
  {
   "cell_type": "code",
   "execution_count": 36,
   "id": "ccedb4c8",
   "metadata": {},
   "outputs": [
    {
     "name": "stdout",
     "output_type": "stream",
     "text": [
      "7\n",
      "8\n",
      "9\n",
      "10\n",
      "11\n",
      "12\n"
     ]
    }
   ],
   "source": [
    "a = 6\n",
    "for i in range(6): \n",
    "    a = a + 1\n",
    "    print(a)"
   ]
  },
  {
   "cell_type": "code",
   "execution_count": 37,
   "id": "78e534d4",
   "metadata": {},
   "outputs": [
    {
     "name": "stdout",
     "output_type": "stream",
     "text": [
      "2\n",
      "4\n",
      "6\n",
      "8\n",
      "10\n",
      "12\n"
     ]
    }
   ],
   "source": [
    "a = 0\n",
    "for i in range(6): \n",
    "    a = a + 2\n",
    "    print(a)"
   ]
  },
  {
   "cell_type": "code",
   "execution_count": 39,
   "id": "60dc815e",
   "metadata": {},
   "outputs": [
    {
     "name": "stdout",
     "output_type": "stream",
     "text": [
      "6\n",
      "12\n",
      "18\n",
      "24\n",
      "30\n",
      "36\n",
      "42\n",
      "48\n",
      "54\n"
     ]
    }
   ],
   "source": [
    "a = 0\n",
    "b = 9\n",
    "for i in range(b): \n",
    "    a = a + 6\n",
    "    print(a)"
   ]
  },
  {
   "cell_type": "code",
   "execution_count": 42,
   "id": "e72b685d",
   "metadata": {},
   "outputs": [
    {
     "name": "stdout",
     "output_type": "stream",
     "text": [
      "f\n",
      "í\n",
      "s\n",
      "i\n",
      "c\n",
      "a\n"
     ]
    }
   ],
   "source": [
    "palavra = \"física\"\n",
    "for i in palavra:\n",
    " print(i)"
   ]
  },
  {
   "cell_type": "code",
   "execution_count": 44,
   "id": "eecce1db",
   "metadata": {},
   "outputs": [
    {
     "name": "stdout",
     "output_type": "stream",
     "text": [
      "1\n",
      "4\n",
      "5\n",
      "3\n",
      "8\n",
      "4\n",
      "98\n",
      "43\n"
     ]
    }
   ],
   "source": [
    "lista = [1, 4, 5, 3, 8, 4, 98, 43]\n",
    "for num in lista:\n",
    "    print(num)"
   ]
  },
  {
   "cell_type": "code",
   "execution_count": 45,
   "id": "36738196",
   "metadata": {},
   "outputs": [
    {
     "name": "stdout",
     "output_type": "stream",
     "text": [
      "a\n",
      "b\n",
      "c\n",
      "d\n",
      "e\n"
     ]
    }
   ],
   "source": [
    "lista = [\"a\", \"b\", \"c\", \"d\", \"e\"]\n",
    "for alfabeto in lista:\n",
    "    print(alfabeto)"
   ]
  },
  {
   "cell_type": "code",
   "execution_count": null,
   "id": "8fe1ccb7",
   "metadata": {},
   "outputs": [],
   "source": []
  }
 ],
 "metadata": {
  "kernelspec": {
   "display_name": "Python 3 (ipykernel)",
   "language": "python",
   "name": "python3"
  },
  "language_info": {
   "codemirror_mode": {
    "name": "ipython",
    "version": 3
   },
   "file_extension": ".py",
   "mimetype": "text/x-python",
   "name": "python",
   "nbconvert_exporter": "python",
   "pygments_lexer": "ipython3",
   "version": "3.10.9"
  }
 },
 "nbformat": 4,
 "nbformat_minor": 5
}
