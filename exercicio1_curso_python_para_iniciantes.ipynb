{
 "cells": [
  {
   "cell_type": "code",
   "execution_count": 1,
   "id": "29ef31b3",
   "metadata": {},
   "outputs": [
    {
     "name": "stdout",
     "output_type": "stream",
     "text": [
      "Olá mundo!\n",
      "Didática tech\n",
      "oi tudo bem?\n"
     ]
    }
   ],
   "source": [
    "# Exercício 1 - Python para iniciantes\n",
    "\n",
    "### Textos (precisam estar dentro das aspas)\n",
    "\n",
    "print(\"Olá mundo!\")\n",
    "print(\"Didática tech\")\n",
    "print(\"oi\", \"tudo bem?\")"
   ]
  },
  {
   "cell_type": "code",
   "execution_count": 2,
   "id": "99fba272",
   "metadata": {},
   "outputs": [
    {
     "name": "stdout",
     "output_type": "stream",
     "text": [
      "11\n",
      "2\n",
      "81\n",
      "21\n",
      "1.8\n",
      "3\n",
      "5.666666666666667\n",
      "1\n"
     ]
    }
   ],
   "source": [
    "### Operações matemáticas\n",
    "\n",
    "print(5 + 6)\n",
    "print(4 - 2)\n",
    "print(3 ** 4)\n",
    "print(3 * 7)\n",
    "print(9 / 5)\n",
    "print(6 - 3)\n",
    "print(17 / 3)\n",
    "print(5 % 2) # Resto da divisão"
   ]
  },
  {
   "cell_type": "code",
   "execution_count": 4,
   "id": "e7aca59a",
   "metadata": {},
   "outputs": [
    {
     "name": "stdout",
     "output_type": "stream",
     "text": [
      "5\n"
     ]
    },
    {
     "data": {
      "text/plain": [
       "True"
      ]
     },
     "execution_count": 4,
     "metadata": {},
     "output_type": "execute_result"
    }
   ],
   "source": [
    "### Criando variáveis\n",
    "\n",
    "a = 5\n",
    "print(a)\n",
    "a == 3 # Pergunta se a é igual a 5, a resposta é \"true\" ou \"false\"\n",
    "a == 5"
   ]
  },
  {
   "cell_type": "code",
   "execution_count": 7,
   "id": "baee1b20",
   "metadata": {},
   "outputs": [
    {
     "name": "stdout",
     "output_type": "stream",
     "text": [
      "7\n",
      "12\n"
     ]
    }
   ],
   "source": [
    "a = 5\n",
    "b = 7\n",
    "print(b)\n",
    "c = a + b\n",
    "print(c)"
   ]
  },
  {
   "cell_type": "code",
   "execution_count": 1,
   "id": "2a1c023a",
   "metadata": {},
   "outputs": [
    {
     "name": "stdout",
     "output_type": "stream",
     "text": [
      "6\n"
     ]
    }
   ],
   "source": [
    "variavel1 = 3\n",
    "variavel2 = 4\n",
    "variavel1 = 6 # Variável com nome repetido camufla o primeiro código\n",
    "print(variavel1)"
   ]
  },
  {
   "cell_type": "code",
   "execution_count": 4,
   "id": "b58e4bde",
   "metadata": {},
   "outputs": [],
   "source": [
    "var1 = 4\n",
    "var2 = 3.5"
   ]
  },
  {
   "cell_type": "code",
   "execution_count": 5,
   "id": "734cb27c",
   "metadata": {},
   "outputs": [
    {
     "data": {
      "text/plain": [
       "int"
      ]
     },
     "execution_count": 5,
     "metadata": {},
     "output_type": "execute_result"
    }
   ],
   "source": [
    "type(var1)"
   ]
  },
  {
   "cell_type": "code",
   "execution_count": 6,
   "id": "0cc1c83c",
   "metadata": {},
   "outputs": [
    {
     "data": {
      "text/plain": [
       "float"
      ]
     },
     "execution_count": 6,
     "metadata": {},
     "output_type": "execute_result"
    }
   ],
   "source": [
    "type(var2) # Float é um número preciso, um tipo diferente de inteiro"
   ]
  },
  {
   "cell_type": "code",
   "execution_count": null,
   "id": "5794b5fb",
   "metadata": {},
   "outputs": [],
   "source": [
    "print(var1 + var2)"
   ]
  },
  {
   "cell_type": "code",
   "execution_count": 7,
   "id": "f0af134e",
   "metadata": {},
   "outputs": [],
   "source": [
    "palavra = \"Frase 1\""
   ]
  },
  {
   "cell_type": "code",
   "execution_count": 8,
   "id": "f2b21bfa",
   "metadata": {},
   "outputs": [
    {
     "data": {
      "text/plain": [
       "str"
      ]
     },
     "execution_count": 8,
     "metadata": {},
     "output_type": "execute_result"
    }
   ],
   "source": [
    "type(palavra)"
   ]
  },
  {
   "cell_type": "code",
   "execution_count": 10,
   "id": "6ed7f798",
   "metadata": {},
   "outputs": [
    {
     "ename": "TypeError",
     "evalue": "unsupported operand type(s) for +: 'float' and 'str'",
     "output_type": "error",
     "traceback": [
      "\u001b[1;31m---------------------------------------------------------------------------\u001b[0m",
      "\u001b[1;31mTypeError\u001b[0m                                 Traceback (most recent call last)",
      "Cell \u001b[1;32mIn[10], line 1\u001b[0m\n\u001b[1;32m----> 1\u001b[0m \u001b[38;5;28mprint\u001b[39m(\u001b[43mvar2\u001b[49m\u001b[43m \u001b[49m\u001b[38;5;241;43m+\u001b[39;49m\u001b[43m \u001b[49m\u001b[43mpalavra\u001b[49m)\n",
      "\u001b[1;31mTypeError\u001b[0m: unsupported operand type(s) for +: 'float' and 'str'"
     ]
    }
   ],
   "source": [
    "print(var2 + palavra) # Retorna uma mensagem de erro"
   ]
  },
  {
   "cell_type": "code",
   "execution_count": 2,
   "id": "24243ca3",
   "metadata": {},
   "outputs": [
    {
     "name": "stdout",
     "output_type": "stream",
     "text": [
      "Qual o seu nome?Jeanne\n",
      "Jeanne\n"
     ]
    }
   ],
   "source": [
    "# Função input()\n",
    "\n",
    "nome = input(\"Qual o seu nome?\") # Precisa de um \"enter\" após colocar o nome"
   ]
  },
  {
   "cell_type": "code",
   "execution_count": null,
   "id": "7fda60a8",
   "metadata": {},
   "outputs": [],
   "source": [
    "print(nome)"
   ]
  },
  {
   "cell_type": "code",
   "execution_count": 1,
   "id": "2e8f6054",
   "metadata": {},
   "outputs": [
    {
     "name": "stdout",
     "output_type": "stream",
     "text": [
      "Qual a sua idade?33\n"
     ]
    }
   ],
   "source": [
    "idade = input(\"Qual a sua idade?\")"
   ]
  },
  {
   "cell_type": "code",
   "execution_count": 3,
   "id": "db711151",
   "metadata": {},
   "outputs": [
    {
     "name": "stdout",
     "output_type": "stream",
     "text": [
      "33\n"
     ]
    }
   ],
   "source": [
    "print(idade)"
   ]
  },
  {
   "cell_type": "code",
   "execution_count": 4,
   "id": "5fd8ac07",
   "metadata": {},
   "outputs": [
    {
     "name": "stdout",
     "output_type": "stream",
     "text": [
      "3333\n"
     ]
    }
   ],
   "source": [
    "print(idade * 2) # Não gera uma multiplicação porque o \"33\" está como string"
   ]
  },
  {
   "cell_type": "code",
   "execution_count": 5,
   "id": "9d7cb23d",
   "metadata": {},
   "outputs": [
    {
     "name": "stdout",
     "output_type": "stream",
     "text": [
      "OiOiOiOiOiOiOiOiOiOiOiOiOiOiOiOiOiOiOiOiOiOiOiOiOiOiOiOiOiOiOiOiOiOiOiOiOiOiOiOiOiOiOiOiOiOiOiOiOiOi\n"
     ]
    }
   ],
   "source": [
    "a = \"Oi\"\n",
    "print(a*50)"
   ]
  },
  {
   "cell_type": "code",
   "execution_count": 6,
   "id": "365895ef",
   "metadata": {},
   "outputs": [
    {
     "name": "stdout",
     "output_type": "stream",
     "text": [
      "Qual sua idade?33\n"
     ]
    }
   ],
   "source": [
    "idade = input(\"Qual sua idade?\")"
   ]
  },
  {
   "cell_type": "code",
   "execution_count": 7,
   "id": "c73fd89f",
   "metadata": {},
   "outputs": [
    {
     "data": {
      "text/plain": [
       "str"
      ]
     },
     "execution_count": 7,
     "metadata": {},
     "output_type": "execute_result"
    }
   ],
   "source": [
    "type(idade)"
   ]
  },
  {
   "cell_type": "code",
   "execution_count": 8,
   "id": "9207b089",
   "metadata": {},
   "outputs": [
    {
     "name": "stdout",
     "output_type": "stream",
     "text": [
      "Qual sua idade?33\n"
     ]
    }
   ],
   "source": [
    "# Para atribuir um outro tipo de variável\n",
    "\n",
    "idade = int(input(\"Qual sua idade?\"))"
   ]
  },
  {
   "cell_type": "code",
   "execution_count": 9,
   "id": "3b0f40fe",
   "metadata": {},
   "outputs": [
    {
     "data": {
      "text/plain": [
       "int"
      ]
     },
     "execution_count": 9,
     "metadata": {},
     "output_type": "execute_result"
    }
   ],
   "source": [
    "type(idade)"
   ]
  },
  {
   "cell_type": "code",
   "execution_count": 10,
   "id": "c028d4d9",
   "metadata": {},
   "outputs": [
    {
     "name": "stdout",
     "output_type": "stream",
     "text": [
      "66\n"
     ]
    }
   ],
   "source": [
    "print(idade*2)"
   ]
  },
  {
   "cell_type": "code",
   "execution_count": 12,
   "id": "8a4e7686",
   "metadata": {},
   "outputs": [
    {
     "name": "stdout",
     "output_type": "stream",
     "text": [
      "Digite: 30\n"
     ]
    }
   ],
   "source": [
    "idade = float(input(\"Digite: \"))"
   ]
  },
  {
   "cell_type": "code",
   "execution_count": 13,
   "id": "864ab583",
   "metadata": {},
   "outputs": [
    {
     "data": {
      "text/plain": [
       "float"
      ]
     },
     "execution_count": 13,
     "metadata": {},
     "output_type": "execute_result"
    }
   ],
   "source": [
    "type(idade)"
   ]
  },
  {
   "cell_type": "code",
   "execution_count": 5,
   "id": "320484f8",
   "metadata": {},
   "outputs": [],
   "source": [
    "fruta = 'laranja'"
   ]
  },
  {
   "cell_type": "code",
   "execution_count": 6,
   "id": "da67d8eb",
   "metadata": {},
   "outputs": [
    {
     "name": "stdout",
     "output_type": "stream",
     "text": [
      "Suco de laranja é o meu favorito.\n"
     ]
    }
   ],
   "source": [
    "print(\"Suco de laranja é o meu favorito.\")"
   ]
  },
  {
   "cell_type": "code",
   "execution_count": 7,
   "id": "5d6187bb",
   "metadata": {},
   "outputs": [
    {
     "name": "stdout",
     "output_type": "stream",
     "text": [
      "Suco de laranja é o meu favorito.\n"
     ]
    }
   ],
   "source": [
    "print(\"Suco de %s é o meu favorito.\" %fruta) # A %s indica que virá no texto uma variável do tipo string, depois informa qual a variável do tipo string"
   ]
  },
  {
   "cell_type": "code",
   "execution_count": 8,
   "id": "9fcd7e90",
   "metadata": {},
   "outputs": [
    {
     "name": "stdout",
     "output_type": "stream",
     "text": [
      "Suco de laranja é o meu favorito.\n"
     ]
    }
   ],
   "source": [
    "print(\"Suco de {} é o meu favorito.\" .format(fruta))"
   ]
  },
  {
   "cell_type": "code",
   "execution_count": 9,
   "id": "985089c3",
   "metadata": {},
   "outputs": [],
   "source": [
    "cor1 = 'azul'\n",
    "cor2 = 'rosa'"
   ]
  },
  {
   "cell_type": "code",
   "execution_count": 11,
   "id": "1cd36452",
   "metadata": {},
   "outputs": [
    {
     "name": "stdout",
     "output_type": "stream",
     "text": [
      "O céu é azul, a flor é rosa e meu carro é azul.\n"
     ]
    }
   ],
   "source": [
    "print(\"O céu é {0}, a flor é {1} e meu carro é {0}.\" .format(cor1, cor2))"
   ]
  },
  {
   "cell_type": "code",
   "execution_count": null,
   "id": "d33a0e66",
   "metadata": {},
   "outputs": [],
   "source": []
  }
 ],
 "metadata": {
  "kernelspec": {
   "display_name": "Python 3 (ipykernel)",
   "language": "python",
   "name": "python3"
  },
  "language_info": {
   "codemirror_mode": {
    "name": "ipython",
    "version": 3
   },
   "file_extension": ".py",
   "mimetype": "text/x-python",
   "name": "python",
   "nbconvert_exporter": "python",
   "pygments_lexer": "ipython3",
   "version": "3.10.9"
  }
 },
 "nbformat": 4,
 "nbformat_minor": 5
}
